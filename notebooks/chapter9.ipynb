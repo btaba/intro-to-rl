{
 "cells": [
  {
   "cell_type": "markdown",
   "metadata": {},
   "source": [
    "#### Chapter 8 in the 2nd edition, Chapter 9 in the 1st edition"
   ]
  },
  {
   "cell_type": "markdown",
   "metadata": {},
   "source": [
    "##### 8.1*\n",
    "The nonplanning method looks particularly poor in Figure 8.4 because\n",
    "it is a one-step method; a method using multi-step bootstrapping would do better.\n",
    "Do you think one of the multi-step bootstrapping methods from Chapter 7 could do\n",
    "as well as the Dyna method? Explain why or why not.\n",
    "\n",
    "The multi-step bootstrapping method could possibly do as well as the Dyna method with one-step updates, since both multi-step bootstrapping and Dyna algorithms assign values to all states previously visited in order to speed up learning. It's not clear to me which one would do better without an experiment."
   ]
  },
  {
   "cell_type": "markdown",
   "metadata": {},
   "source": [
    "##### 8.2\n",
    "\n",
    "Why did the Dyna agent with exploration bonus, Dyna-Q+, perform\n",
    "better in the first phase as well as in the second phase of the blocking and shortcut\n",
    "experiments?\n",
    "\n",
    "\n",
    "First phase: Dyna-Q+ performs better in the first phase than Dyna-Q because of the footnote description and since Dyna-Q+ explores more than Dyna-Q due to the augmented reward (thus more likely to find optimal path): \n",
    "\n",
    "> \"The Dyna-Q+ agent was changed in two other ways as well. First, actions that had never been\n",
    "tried before from a state were allowed to be considered in the planning step (f) of Figure 8.2. Second,\n",
    "the initial model for such actions was that they would lead back to the same state with a reward of\n",
    "zero.\"\n",
    "\n",
    "Second phase: Dyna-Q+ performs better in the second phase since the new shorter path is learned under Dyna-Q+ but not under Dyna-Q. Dyna-Q+ augments the reward for unvisited states by $\\kappa \\sqrt{\\tau}$, whereas during planning Dyna-Q discounts the value for unvisited states if they were not previously optimal. This forces Dyna-Q+ to keep exploring and eventually find the shorter path, while Dyna-Q has no reason to believe that a shorter path exists during planning."
   ]
  },
  {
   "cell_type": "markdown",
   "metadata": {},
   "source": [
    "##### 8.3 \n",
    "\n"
   ]
  },
  {
   "cell_type": "markdown",
   "metadata": {},
   "source": [
    "Careful inspection of Figure 8.6 reveals that the difference between\n",
    "Dyna-Q+ and Dyna-Q narrowed slightly over the first part of the experiment. What\n",
    "is the reason for this?\n",
    "\n",
    "I suspect that the narrowing in Figure 8.6 occurs since Dyna-Q learns episodes with $\\epsilon$-greedy actions, and thus eventually finds the optimal path that Dyna-Q+ found a lot quicker due to Dyna-Q+ increased exploration.\n"
   ]
  },
  {
   "cell_type": "markdown",
   "metadata": {},
   "source": [
    "##### 8.4\n",
    "\n",
    "The exploration bonus described above actually\n",
    "changes the estimated values of states and actions. Is this necessary? Suppose the\n",
    "bonus κ√τ was used not in backups, but solely in action selection. That is, suppose\n",
    "the action selected was always that for which Q(S, a) + $\\kappa\\sqrt{\\tau_{S_a}}$ was maximal. Carry\n",
    "out a gridworld experiment that tests and illustrates the strengths and weaknesses\n",
    "of this alternate approach."
   ]
  },
  {
   "cell_type": "code",
   "execution_count": 1,
   "metadata": {
    "collapsed": false
   },
   "outputs": [],
   "source": [
    "# Maze code obtained from \n",
    "# https://github.com/ShangtongZhang/reinforcement-learning-an-introduction/blob/master/chapter08/VariousMaze.py\n",
    "# Additional requirements from the problem statement were added to re-create Figure 8.6\n",
    "\n",
    "# --------------------------------------------------------------------#\n",
    "#######################################################################\n",
    "# Copyright (C) 2016 Shangtong Zhang(zhangshangtong.cpp@gmail.com)    #\n",
    "# Permission given to modify the code as long as you keep this        #\n",
    "# declaration at the top                                              #\n",
    "#######################################################################\n",
    "\n",
    "import numpy as np\n",
    "import matplotlib.pyplot as plt\n",
    "%matplotlib inline\n",
    "\n",
    "class Maze:\n",
    "\n",
    "    def __init__(self):\n",
    "        # maze width\n",
    "        self.WORLD_WIDTH = 9\n",
    "        # maze height\n",
    "        self.WORLD_HEIGHT = 6\n",
    "\n",
    "        # all possible actions\n",
    "        self.ACTION_UP = 0\n",
    "        self.ACTION_DOWN = 1\n",
    "        self.ACTION_LEFT = 2\n",
    "        self.ACTION_RIGHT = 3\n",
    "        self.actions = [self.ACTION_UP, self.ACTION_DOWN, self.ACTION_LEFT, self.ACTION_RIGHT]\n",
    "\n",
    "        # start state\n",
    "        self.START_STATE = [2, 0]\n",
    "\n",
    "        # goal state\n",
    "        self.GOAL_STATES = [[0, 8]]\n",
    "\n",
    "        # all obstacles\n",
    "        self.obstacles = [[1, 2], [2, 2], [3, 2], [0, 7], [1, 7], [2, 7], [4, 5]]\n",
    "        self.oldObstacles = None\n",
    "        self.newObstacles = None\n",
    "\n",
    "        # time to change obstacles\n",
    "        self.changingPoint = None\n",
    "\n",
    "        # initial state action pair values\n",
    "        self.stateActionValues = np.zeros((self.WORLD_HEIGHT, self.WORLD_WIDTH, len(self.actions)))\n",
    "\n",
    "        # max steps\n",
    "        self.maxSteps = float('inf')\n",
    "\n",
    "        # track the resolution for this maze\n",
    "        self.resolution = 1\n",
    "\n",
    "    def takeAction(self, state, action):\n",
    "        x, y = state\n",
    "        if action == self.ACTION_UP:\n",
    "            x = max(x - 1, 0)\n",
    "        elif action == self.ACTION_DOWN:\n",
    "            x = min(x + 1, self.WORLD_HEIGHT - 1)\n",
    "        elif action == self.ACTION_LEFT:\n",
    "            y = max(y - 1, 0)\n",
    "        elif action == self.ACTION_RIGHT:\n",
    "            y = min(y + 1, self.WORLD_WIDTH - 1)\n",
    "        if [x, y] in self.obstacles:\n",
    "            x, y = state\n",
    "        if [x, y] in self.GOAL_STATES:\n",
    "            reward = 1.0\n",
    "        else:\n",
    "            reward = 0.0\n",
    "        return [x, y], reward\n",
    "\n",
    "    \n"
   ]
  },
  {
   "cell_type": "code",
   "execution_count": 2,
   "metadata": {
    "collapsed": true
   },
   "outputs": [],
   "source": [
    "\n",
    "class PlanningModel(object):\n",
    "    def __init__(self, environment, time_weight=0):\n",
    "        self.time = 0\n",
    "        self.model = dict()\n",
    "        self.time_weight = time_weight\n",
    "        self.environment = environment\n",
    "        self.rand = np.random.RandomState(0)\n",
    "\n",
    "    def save_experience(self, current_state, action, new_state, reward):\n",
    "        \"\"\" Deterministic environment model\n",
    "        \"\"\"\n",
    "        self.time += 1\n",
    "        self.create_state_action_value(current_state, action)\n",
    "        self.model[tuple(current_state)][action] = [list(new_state), reward, self.time]\n",
    "\n",
    "    def sample(self):\n",
    "        stateIndex = self.rand.choice(range(0, len(self.model.keys())))\n",
    "        state = list(self.model.keys())[stateIndex]\n",
    "        actionIndex = self.rand.choice(range(0, len(self.model[state].keys())))\n",
    "        action = list(self.model[state].keys())[actionIndex]\n",
    "        newState, reward, time = self.model[state][action]\n",
    "\n",
    "        # adjust reward with elapsed time since last vist\n",
    "        time_reward = self.time_weight * np.sqrt(self.time - time)\n",
    "\n",
    "        return list(state), action, list(newState), reward, time_reward\n",
    "\n",
    "    def get_time_reward(self, state, action):\n",
    "        self.create_state_action_value(state, action=None)\n",
    "        newState, reward, time = self.model[tuple(state)][action]\n",
    "        return self.time_weight * np.sqrt(max(0, self.time - time))\n",
    "    \n",
    "    def create_state_action_value(self, current_state, action):\n",
    "        if tuple(current_state) not in self.model:\n",
    "            self.model[tuple(current_state)] = dict()\n",
    "\n",
    "            # Actions that had never been tried before from a state \n",
    "            # were allowed to be considered in the planning step\n",
    "            for action_ in self.environment.actions:\n",
    "                if action_ != action:\n",
    "                    # Such actions would lead back to the same state with a reward of zero\n",
    "                    # Notice that the minimum time stamp is 1 instead of 0\n",
    "                    self.model[tuple(current_state)][action_] = [list(current_state), 0, 1]\n",
    "    \n",
    "\n",
    "class DynaAgent(object):\n",
    "    \n",
    "    def __init__(self, gamma=0.95, epsilon=0.1, alpha=0.1, planning_steps=50):\n",
    "        # discount factor\n",
    "        self.gamma = gamma\n",
    "        # probability for exploration\n",
    "        self.epsilon = epsilon\n",
    "        # step size\n",
    "        self.alpha = alpha\n",
    "        # planning steps\n",
    "        self.planning_steps = planning_steps\n",
    "\n",
    "    def epsilon_greedy_action(self, state, state_action_values, environment):\n",
    "        if np.random.binomial(1, self.epsilon) == 1:\n",
    "            return np.random.choice(environment.actions)\n",
    "        return np.argmax(state_action_values[state[0], state[1], :])\n",
    "    \n",
    "    def epsilon_greedy_action_with_time_reward(self, state, state_action_values,\n",
    "                                               environment, planning_model):\n",
    "        if np.random.binomial(1, self.epsilon) == 1:\n",
    "            return np.random.choice(environment.actions)\n",
    "        Q = [planning_model.get_time_reward(state, a) for a in environment.actions]\n",
    "        Q += state_action_values[state[0], state[1], :]\n",
    "        return np.argmax(Q)\n",
    "\n",
    "    def play_episode(self, state_action_values, planning_model,\n",
    "                     environment, action_with_time_reward=False):\n",
    "        steps = 0\n",
    "        current_state = environment.START_STATE\n",
    "        while current_state not in environment.GOAL_STATES:\n",
    "            steps += 1\n",
    "\n",
    "            if action_with_time_reward:\n",
    "                action = self.epsilon_greedy_action_with_time_reward(\n",
    "                    current_state, state_action_values, environment,\n",
    "                    planning_model\n",
    "                )\n",
    "            else:\n",
    "                action = self.epsilon_greedy_action(\n",
    "                    current_state, state_action_values, environment\n",
    "                )\n",
    "\n",
    "            new_state, reward = environment.takeAction(current_state, action)\n",
    "\n",
    "            # Q-Learning update\n",
    "            state_action_values[current_state[0], current_state[1], action] += \\\n",
    "                self.alpha * (reward + self.gamma * np.max(\n",
    "                        state_action_values[new_state[0], new_state[1], :]) -\n",
    "                state_action_values[current_state[0], current_state[1], action])\n",
    "\n",
    "            # feed the model with experience\n",
    "            planning_model.save_experience(current_state, action, new_state, reward)\n",
    "\n",
    "            # sample experience from the model\n",
    "            for t in range(0, self.planning_steps):\n",
    "                state_sample, action_sample, new_state_sample, reward_sample, time_reward = planning_model.sample()\n",
    "                if not action_with_time_reward:\n",
    "                    # only use the time_reward update if we don't select the actions \n",
    "                    # using the time rewards\n",
    "                    reward_sample += time_reward\n",
    "                state_action_values[state_sample[0], state_sample[1], action_sample] += \\\n",
    "                    self.alpha * (reward_sample + self.gamma * np.max(\n",
    "                            state_action_values[new_state_sample[0], new_state_sample[1], :]) -\n",
    "                    state_action_values[state_sample[0], state_sample[1], action_sample]) \n",
    "\n",
    "            current_state = new_state\n",
    "\n",
    "            # check whether it has exceeded the step limit\n",
    "            if steps > environment.maxSteps:\n",
    "                break\n",
    "\n",
    "        return steps\n",
    "\n"
   ]
  },
  {
   "cell_type": "code",
   "execution_count": 3,
   "metadata": {
    "collapsed": true
   },
   "outputs": [],
   "source": [
    "\n",
    "def changingMazeExperiment(environment, planning_model,\n",
    "                           agent, num_runs=1, with_time_reward=False):\n",
    "    \"\"\"\n",
    "    Runs an experiment given a changing environmnet, with a planning agent\n",
    "    \"\"\"\n",
    "\n",
    "    # set up max steps\n",
    "    maxSteps = environment.maxSteps\n",
    "\n",
    "    # track the cumulative rewards\n",
    "    # rewards = np.zeros((maxSteps))\n",
    "    rewards_ = np.zeros((num_runs, maxSteps))\n",
    "\n",
    "    for run in range(0, num_runs):\n",
    "#         print('Run ', run)\n",
    "\n",
    "        # initialize state action values\n",
    "        stateActionValues = environment.stateActionValues\n",
    "\n",
    "        # set old obstacles for the maze\n",
    "        environment.obstacles = environment.oldObstacles\n",
    "\n",
    "        steps = 0\n",
    "        lastSteps = steps\n",
    "        while steps < maxSteps:\n",
    "            # play for an episode\n",
    "            steps += agent.play_episode(\n",
    "                stateActionValues, planning_model,\n",
    "                environment, action_with_time_reward=with_time_reward\n",
    "            )\n",
    "\n",
    "            # update cumulative rewards\n",
    "            steps_ = min(steps, maxSteps - 1)\n",
    "            rewards_[run, lastSteps: steps_] = rewards_[run, lastSteps]\n",
    "            rewards_[run, steps_] = rewards_[run, lastSteps] + 1\n",
    "            lastSteps = steps\n",
    "\n",
    "            if steps > environment.changingPoint:\n",
    "                # change the obstacles\n",
    "                environment.obstacles = environment.newObstacles\n",
    "\n",
    "    # averaging over runs\n",
    "    rewards = np.mean(rewards_, axis=0)\n",
    "\n",
    "    return rewards\n",
    "\n"
   ]
  },
  {
   "cell_type": "code",
   "execution_count": 4,
   "metadata": {
    "collapsed": true
   },
   "outputs": [],
   "source": [
    "# set up a shortcut maze instance\n",
    "shortcutMaze = Maze()\n",
    "shortcutMaze.START_STATE = [5, 3]\n",
    "shortcutMaze.GOAL_STATES = [[0, 8]]\n",
    "shortcutMaze.oldObstacles = [[3, i] for i in range(1, 9)]\n",
    "\n",
    "# new obstacles will have a shorter path\n",
    "shortcutMaze.newObstacles = [[3, i] for i in range(1, 8)]\n",
    "\n",
    "# step limit\n",
    "shortcutMaze.maxSteps = 6000\n",
    "shortcutMaze.changingPoint = 3000"
   ]
  },
  {
   "cell_type": "code",
   "execution_count": 5,
   "metadata": {
    "collapsed": true
   },
   "outputs": [],
   "source": [
    "# setup up the planning model and Agent\n",
    "agent = DynaAgent(planning_steps=50, alpha=0.7)\n",
    "agent2 = DynaAgent(planning_steps=0, alpha=0.7)\n",
    "dynaq_model = PlanningModel(environment=shortcutMaze, time_weight=0)\n",
    "dynaq_plus_model = PlanningModel(environment=shortcutMaze, time_weight=5e-4)\n"
   ]
  },
  {
   "cell_type": "code",
   "execution_count": 6,
   "metadata": {
    "collapsed": false
   },
   "outputs": [],
   "source": [
    "# run experiments\n",
    "dynaq_rewards = changingMazeExperiment(\n",
    "    shortcutMaze, planning_model=dynaq_model, agent=agent, num_runs=2\n",
    ")\n",
    "dynaq_plus_rewards = changingMazeExperiment(\n",
    "    shortcutMaze, planning_model=dynaq_plus_model, agent=agent, num_runs=2\n",
    ")\n",
    "dynaq_plus_84_rewards = changingMazeExperiment(\n",
    "    shortcutMaze, planning_model=dynaq_plus_model,\n",
    "    agent=agent2, num_runs=2, with_time_reward=True\n",
    ")"
   ]
  },
  {
   "cell_type": "code",
   "execution_count": 7,
   "metadata": {
    "collapsed": false
   },
   "outputs": [
    {
     "data": {
      "text/plain": [
       "<matplotlib.legend.Legend at 0x10d94afd0>"
      ]
     },
     "execution_count": 7,
     "metadata": {},
     "output_type": "execute_result"
    },
    {
     "data": {
      "image/png": "[encoded data removed]",
      "text/plain": [
       "<matplotlib.figure.Figure at 0x102bd6a50>"
      ]
     },
     "metadata": {},
     "output_type": "display_data"
    }
   ],
   "source": [
    "plt.plot(dynaq_rewards, label='dyna-Q')\n",
    "plt.plot(dynaq_plus_rewards, label='dyna-Q+')\n",
    "plt.plot(dynaq_plus_84_rewards, label='dyna-Q-8.4')\n",
    "\n",
    "plt.xlabel('time steps')\n",
    "plt.ylabel('cumulative reward')\n",
    "plt.legend(loc='best')"
   ]
  },
  {
   "cell_type": "markdown",
   "metadata": {},
   "source": [
    "For the short-cut maze problem, we see that the 8.4 method (using $\\kappa \\sqrt{\\tau}$ for action selection only and not for planning) results in similar performance as dyna-Q if the number of planning steps is large (as the planning steps are identical). If the number of planning steps is close to 0, the 8.4 method does better than dyna-Q because of the exploration step in the action selection. Overall, the 8.4 method in the problem doesn't seem to add much value to dyna-Q, since the action selection is not as exploratory as dyna-Q+ for the maze shortcut."
   ]
  },
  {
   "cell_type": "markdown",
   "metadata": {},
   "source": [
    "##### 9.5\n",
    "\n",
    "The analysis above assumed that all of the  possible next states were equally likely to occur. Suppose instead that the distribution was highly skewed, that some of the  states were much more likely to occur than most. Would this strengthen or weaken the case for sample backups over full backups? Support your answer.\n",
    "\n",
    "If the distribution of next states was highly skewed, full backups would be better on states more likely to occur rather than sample backups on several states, some of which were unlikely to occur."
   ]
  },
  {
   "cell_type": "markdown",
   "metadata": {},
   "source": [
    "##### 9.6**\n",
    "\n",
    "\n",
    "Some of the graphs in Figure 9.14 seem to be scalloped in their early portions, particularly the upper graph for $b=1$  and the uniform distribution. Why do you think this is? What aspects of the data shown support your hypothesis?\n",
    "\n",
    "\n",
    "I'm not sure at all why this is happening and wasn't able to reproduce it for some reason. "
   ]
  },
  {
   "cell_type": "markdown",
   "metadata": {},
   "source": [
    "##### 9.7 \n",
    "\n",
    "If you have access to a moderately large computer, try replicating the experiment whose results are shown in the lower part of Figure  9.14. Then try the same experiment but with b=3. Discuss the meaning of your results.\n"
   ]
  },
  {
   "cell_type": "code",
   "execution_count": 8,
   "metadata": {
    "collapsed": true
   },
   "outputs": [],
   "source": [
    "import numpy as np\n",
    "from matplotlib import pyplot as plt\n",
    "\n",
    "%matplotlib inline"
   ]
  },
  {
   "cell_type": "code",
   "execution_count": 9,
   "metadata": {
    "collapsed": true
   },
   "outputs": [],
   "source": [
    "\n",
    "class TrajectorySampling(object):\n",
    "    def __init__(self, n=0, k=0, gamma=0.9, alpha=0.1,\n",
    "                 epsilon=0.1, max_num_tasks=2000):\n",
    "        \"\"\"\n",
    "        Args:\n",
    "            n (int): Number of states\n",
    "            k (int): Branching factor for each state\n",
    "            gamma (float): discount factor\n",
    "            epsilon (float): probability of choosing a non-greedy action\n",
    "            alpha (float): probability of landing in terminal state\n",
    "        \"\"\"\n",
    "        self.gamma = gamma\n",
    "        self.alpha = alpha\n",
    "        self.epsilon = epsilon\n",
    "        self.max_num_tasks = max_num_tasks\n",
    "\n",
    "    def setup(self, n_arg, k_arg):\n",
    "        \"\"\" Setup the reward, Q-value, and policy arrays\n",
    "        \"\"\"\n",
    "        self.n = n_arg\n",
    "        self.k = k_arg\n",
    "        self.successor = np.zeros((self.n, 2, self.k)).astype(int)\n",
    "        self.R = np.zeros((self.n, self.k + 1, 2))\n",
    "        self.Q = np.zeros((self.n, 2))\n",
    "        self.policy = np.zeros((self.n)).astype(int)\n",
    "        self.V = np.zeros((self.n))\n",
    "        self.randomness = np.zeros((self.max_num_tasks)).astype(int)\n",
    "        for t in range(self.max_num_tasks):\n",
    "            self.randomness[t] = np.random.randint(low=0, high=self.max_num_tasks * 9999)\n",
    "\n",
    "    def init(self, task_num):\n",
    "        \"\"\" Initialize the Q, R, and successor array. The successor array determines\n",
    "            the next state given an action in a given state\n",
    "        \"\"\"\n",
    "        np.random.seed(seed=self.randomness[task_num])\n",
    "        self.Q = np.zeros_like(self.Q)\n",
    "        self.R = np.random.rand(*self.R.shape)\n",
    "        for s in range(self.n):\n",
    "            for a in range(2):\n",
    "                for i, sp in enumerate(np.random.choice(self.n, self.k)):\n",
    "                    self.successor[s, a, i] = sp\n",
    "\n",
    "    def next_state(self, s, a):\n",
    "        if np.random.rand() > self.alpha:\n",
    "            k = np.random.randint(0, high=self.k)\n",
    "            return self.successor[s, a, k]\n",
    "        return self.n\n",
    "\n",
    "    def full_backup(self, s, a):\n",
    "        backup = 0\n",
    "        for i in range(self.k):\n",
    "            sp = self.successor[s, a, i]\n",
    "            backup += self.R[s, i, a] + self.gamma * np.max(self.Q[sp, :])\n",
    "        backup = backup * (1 - self.alpha) / self.k + self.alpha * self.R[s, self.k, a]\n",
    "        return backup\n",
    "\n",
    "    def run_sweeps(self, n_arg, k_arg, num_runs, num_sweeps, sweeps_per_measurement):\n",
    "        self.setup(n_arg, k_arg)\n",
    "        backups_per_measurement = (sweeps_per_measurement * 2 * self.n)\n",
    "        backups_per_sweep = self.n * 2\n",
    "        num_backups = num_sweeps * backups_per_sweep\n",
    "        num_measurements = num_backups // backups_per_measurement\n",
    "        perf = np.zeros((num_runs, num_measurements))\n",
    "        for run in range(num_runs):\n",
    "            self.init(run)\n",
    "            backups = 0\n",
    "            for ns in range(num_sweeps):\n",
    "                for s in range(self.n):\n",
    "                    for a in range(2):\n",
    "                        if backups % backups_per_measurement == 0:\n",
    "                            perf[run, backups // backups_per_measurement] = self.measure_performance()\n",
    "                        self.Q[s, a] = self.full_backup(s, a)\n",
    "                        backups += 1\n",
    "        return perf\n",
    "        \n",
    "    def run_trajectories(self, n_arg, k_arg, num_runs, num_sweeps, sweeps_per_measurement):\n",
    "        self.setup(n_arg, k_arg)\n",
    "        backups_per_measurement = (sweeps_per_measurement * 2 * self.n)\n",
    "        backups_per_sweep = self.n * 2\n",
    "        num_backups = num_sweeps * backups_per_sweep\n",
    "        num_measurements = num_backups // backups_per_measurement\n",
    "        perf = np.zeros((num_runs, num_measurements))\n",
    "        for run in range(num_runs):\n",
    "            self.init(run)\n",
    "            backups = 0\n",
    "            state = 0 \n",
    "            while state != self.n:\n",
    "                action = np.random.choice(2) if np.random.rand() < self.epsilon\\\n",
    "                    else np.argmax(self.Q[state, :])\n",
    "                nxt_state = self.next_state(state, action)\n",
    "                if backups % backups_per_measurement == 0:\n",
    "                    perf[run, backups // backups_per_measurement] += self.measure_performance()\n",
    "                self.Q[state, action] = self.full_backup(state, action)\n",
    "                backups += 1\n",
    "\n",
    "                if backups == num_backups:\n",
    "                    break\n",
    "\n",
    "                state = nxt_state\n",
    "                if state == self.n:\n",
    "                    state = 0\n",
    "\n",
    "        return perf\n",
    "\n",
    "    def measure_performance(self):\n",
    "        for s in range(self.n):\n",
    "            self.V[s] = 0.0\n",
    "            self.policy[s] = np.argmax(self.Q[s, :])\n",
    "\n",
    "        delta = 1\n",
    "        while delta > 0.001:\n",
    "            delta = 0\n",
    "            for s in range(self.n):\n",
    "                old_V = self.V[s]\n",
    "                self.V[s] = self.full_backup(s, self.policy[s])\n",
    "                delta += np.sum(np.abs(old_V - self.V[s]))\n",
    "        return self.V[0]\n",
    "            "
   ]
  },
  {
   "cell_type": "code",
   "execution_count": 10,
   "metadata": {
    "collapsed": false
   },
   "outputs": [],
   "source": [
    "ts = TrajectorySampling()"
   ]
  },
  {
   "cell_type": "code",
   "execution_count": 11,
   "metadata": {
    "collapsed": true
   },
   "outputs": [],
   "source": [
    "\n",
    "sweep_results = ts.run_sweeps(\n",
    "    n_arg=1000, k_arg=1, num_runs=200,\n",
    "    num_sweeps=10, sweeps_per_measurement=1\n",
    ")\n",
    "\n",
    "trajectory_results = ts.run_trajectories(\n",
    "    n_arg=1000, k_arg=1, num_runs=200,\n",
    "    num_sweeps=10, sweeps_per_measurement=1\n",
    ")\n",
    "\n",
    "sweep_results3 = ts.run_sweeps(\n",
    "    n_arg=1000, k_arg=3, num_runs=200,\n",
    "    num_sweeps=10, sweeps_per_measurement=1\n",
    ")\n",
    "\n",
    "trajectory_results3 = ts.run_trajectories(\n",
    "    n_arg=1000, k_arg=3, num_runs=200,\n",
    "    num_sweeps=10, sweeps_per_measurement=1\n",
    ")\n",
    "\n"
   ]
  },
  {
   "cell_type": "code",
   "execution_count": 12,
   "metadata": {
    "collapsed": false
   },
   "outputs": [
    {
     "data": {
      "text/plain": [
       "<matplotlib.legend.Legend at 0x10df3de90>"
      ]
     },
     "execution_count": 12,
     "metadata": {},
     "output_type": "execute_result"
    },
    {
     "data": {
      "image/png": "[encoded data removed]",
      "text/plain": [
       "<matplotlib.figure.Figure at 0x102bd6750>"
      ]
     },
     "metadata": {},
     "output_type": "display_data"
    }
   ],
   "source": [
    "x = (np.ones(sweep_results.shape[1]).cumsum() - 1) * ts.n * 2\n",
    "\n",
    "plt.plot(x, np.mean(sweep_results, axis=0))\n",
    "plt.plot(x, np.mean(trajectory_results, axis=0))\n",
    "\n",
    "plt.plot(x, np.mean(sweep_results3, axis=0))\n",
    "plt.plot(x, np.mean(trajectory_results3, axis=0))\n",
    "\n",
    "plt.xlabel('Computation time in full backups')\n",
    "plt.ylabel('Value of start state under greedy policy')\n",
    "\n",
    "plt.legend(['uniform, k=1', 'on-policy, k=1', 'uniform, k=3', 'on-policy, k=3'], loc='best')"
   ]
  },
  {
   "cell_type": "code",
   "execution_count": 15,
   "metadata": {
    "collapsed": true
   },
   "outputs": [],
   "source": [
    "\n",
    "sweep_results = ts.run_sweeps(\n",
    "    n_arg=10000, k_arg=1, num_runs=200,\n",
    "    num_sweeps=10, sweeps_per_measurement=1\n",
    ")\n",
    "\n",
    "trajectory_results = ts.run_trajectories(\n",
    "    n_arg=10000, k_arg=1, num_runs=200,\n",
    "    num_sweeps=10, sweeps_per_measurement=1\n",
    ")\n",
    "\n",
    "sweep_results3 = ts.run_sweeps(\n",
    "    n_arg=10000, k_arg=3, num_runs=200,\n",
    "    num_sweeps=10, sweeps_per_measurement=1\n",
    ")\n",
    "\n",
    "trajectory_results3 = ts.run_trajectories(\n",
    "    n_arg=10000, k_arg=3, num_runs=200,\n",
    "    num_sweeps=10, sweeps_per_measurement=1\n",
    ")\n"
   ]
  },
  {
   "cell_type": "code",
   "execution_count": 16,
   "metadata": {
    "collapsed": false
   },
   "outputs": [
    {
     "data": {
      "text/plain": [
       "<matplotlib.legend.Legend at 0x10f1c0650>"
      ]
     },
     "execution_count": 16,
     "metadata": {},
     "output_type": "execute_result"
    },
    {
     "data": {
      "image/png": "[encoded data removed]",
      "text/plain": [
       "<matplotlib.figure.Figure at 0x10d979990>"
      ]
     },
     "metadata": {},
     "output_type": "display_data"
    }
   ],
   "source": [
    "x = (np.ones(sweep_results.shape[1]).cumsum() - 1) * ts.n * 2\n",
    "\n",
    "plt.plot(x, np.mean(sweep_results, axis=0))\n",
    "plt.plot(x, np.mean(trajectory_results, axis=0))\n",
    "\n",
    "plt.plot(x, np.mean(sweep_results3, axis=0))\n",
    "plt.plot(x, np.mean(trajectory_results3, axis=0))\n",
    "\n",
    "plt.xlabel('Computation time in full backups')\n",
    "plt.ylabel('Value of start state under greedy policy')\n",
    "\n",
    "plt.legend(['uniform, k=1', 'on-policy, k=1', 'uniform, k=3', 'on-policy, k=3'], loc='best')"
   ]
  },
  {
   "cell_type": "markdown",
   "metadata": {},
   "source": [
    "We see that the results for 10k states are similar to those with 1k states, where the k=3 branching factor has a similar effect on the value funtion as before."
   ]
  },
  {
   "cell_type": "code",
   "execution_count": null,
   "metadata": {
    "collapsed": true
   },
   "outputs": [],
   "source": []
  }
 ],
 "metadata": {
  "anaconda-cloud": {},
  "kernelspec": {
   "display_name": "Python 2",
   "language": "python",
   "name": "python2"
  },
  "language_info": {
   "codemirror_mode": {
    "name": "ipython",
    "version": 2
   },
   "file_extension": ".py",
   "mimetype": "text/x-python",
   "name": "python",
   "nbconvert_exporter": "python",
   "pygments_lexer": "ipython2",
   "version": "2.7.11"
  }
 },
 "nbformat": 4,
 "nbformat_minor": 1
}

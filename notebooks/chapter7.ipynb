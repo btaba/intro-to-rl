{
 "cells": [
  {
   "cell_type": "code",
   "execution_count": 3,
   "metadata": {
    "collapsed": false
   },
   "outputs": [],
   "source": [
    "import numpy as np\n",
    "\n",
    "from matplotlib import pyplot as plt\n",
    "%matplotlib inline"
   ]
  },
  {
   "cell_type": "markdown",
   "metadata": {},
   "source": [
    "##### Exercise 7.1\n",
    "\n",
    "Why do you think a larger random walk task (19 states instead of 5) was used in the examples of this chapter? Would a smaller walk have shifted the advantage to a different value of n? How about the change in left-side outcome from 0 to -1? Would that have made any difference in the best value of n?\n",
    "\n",
    "A small random walk would truncate large n-step to their total returns since episodes will be shorter (i.e. large n would just result in alpha MC methods). Therefore we should expect the advantage at lower n for smaller random walks. \n",
    "\n",
    "With values initialized at 0, if the left-most value terminated in 0 reward, we would need longer episodes for an agent to assign the correct values to the states left of center, since episodes that terminate to the left will not cause any updates initially, only the episodes that terminate to the right end with non-zero reward. Thus I would expect the best value of n to increase."
   ]
  },
  {
   "cell_type": "markdown",
   "metadata": {},
   "source": [
    "---------\n",
    "\n",
    "##### Exercise 7.2\n",
    "\n",
    "Why do you think on-line methods worked better than off-line methods on the example task?\n",
    "\n",
    "Off-line methods generally take random actions with some small probability $\\epsilon$. We would expect at least 1-2 random actions in an environment with a minimum of 10 states to termination, depending on $\\epsilon$ (assuming $\\epsilon$ is between 10-20%). Therefore, even after finding the optimal action-values, these random actions will attribute erroneous rewards to certain actions, leading to higher RMSEs compared to on-line methods; we also see that larger n is more optimal for off-line methods compared to on-line, presumably because larger n reduces noise from the $\\epsilon$ greedy actions."
   ]
  },
  {
   "cell_type": "markdown",
   "metadata": {},
   "source": [
    "-----------\n",
    "\n",
    "##### Exercise 7.3\n",
    "\n",
    "In the lower part of Figure  7.2, notice that the plot for n=3 is different from the others, dropping to low performance at a much lower value of $\\alpha$ than similar methods. In fact, the same was observed for n=5, n=7, and n=9. Can you explain why this might have been so? In fact, we are not sure ourselves.\n",
    "\n",
    "My hypothesis is that odd values of n have higher RMSE because of the environment. It takes at a minimum, an odd number of steps to reach termination from the starting state. For off-line methods, even after finding the optimal action-values, an agent may still not terminate in an odd number of steps. Therefore my hypothesis is that odd n-step methods are more likely to cause erroneous updates to the $\\epsilon$ greedy actions compared to even n-step methods. A quick way to test this, would be to create a random-walk where an agent will terminate at a minimum in an even number of steps, and then to observe the same plots as in Figure 7.2. "
   ]
  },
  {
   "cell_type": "markdown",
   "metadata": {},
   "source": [
    "----------\n",
    "\n",
    "#### Exercise 7.4  \n",
    "\n",
    "The parameter $\\lambda $ characterizes how fast the exponential weighting in Figure  7.4 falls off, and thus how far into the future the $\\lambda $-return algorithm looks in determining its backup. But a rate factor such as $\\lambda $ is sometimes an awkward way of characterizing the speed of the decay. For some purposes it is better to specify a time constant, or half-life. What is the equation relating $\\lambda $ and the half-life, $\\tau$, the time by which the weighting sequence will have fallen to half of its initial value?\n",
    "\n",
    "The half life occurs when weighting drops in half:\n",
    "\n",
    "$ \\lambda^{n} = 0.5 $,\n",
    "\n",
    "which occurs at,\n",
    "$n = -ln(2) / ln(\\lambda) = \\tau$\n"
   ]
  },
  {
   "cell_type": "markdown",
   "metadata": {},
   "source": [
    "-----\n",
    "Getting (7.3) from the equation above it:\n",
    "\n",
    "$R_t^\\lambda = (1 - \\lambda) \\sum_{n=1}^\\infty \\lambda^{n-1} R^{(n)}_t$,\n",
    "\n",
    "after $T-t-1$, we sum to infinity but with $R^{T-t-1}_t$, which is just the total return $R_t$, so:\n",
    "\n",
    "$R_t^\\lambda = (1 - \\lambda) \\sum_{n=1}^{T-t-1} \\lambda^{n-1} R^{(n)}_t + (1 - \\lambda) R_t \\sum_{n=T-t-1}^{\\infty} \\lambda^{n} $\n",
    "\n",
    "We can remove $\\lambda^{T-t-1}$ from the last sum to get $ (1 - \\lambda) R_t \\lambda^{T-t-1} \\sum_{n=0}^\\infty \\lambda^n = (1 - \\lambda) R_t \\lambda^{T-t-1} \\frac{1}{1 - \\lambda}$, so that: \n",
    "\n",
    "$R_t^\\lambda = (1 - \\lambda) \\sum_{n=1}^{T-t-1} \\lambda^{n} R^{(n)}_t + \\lambda^{T-t-1} R_t  $"
   ]
  },
  {
   "cell_type": "markdown",
   "metadata": {},
   "source": [
    "----------\n",
    "\n",
    "##### Exercise 7.5\n",
    "\n",
    "In order to get TD($\\lambda$) to be equivalent to the $\\lambda$-return algorithm in the online case, the proposal is that $\\delta_t = r_{t+1} + \\gamma V_t(s_{t+1}) - V_{t-1}(s_t) $ and the n-step return is $R_t^{(n)} = r_{t+1} + \\dots + \\gamma^{n-1} r_{t+n} + \\gamma^n V_{t+n-1}(s_{t+n}) $. To show that this new TD method is equivalent to the $\\lambda$ return, it suffices to show that $\\Delta V_t(s_t)$ for the $\\lambda$ return is equivalent to the new TD with modified $\\delta_t$ and $R_t^{(n)}$.\n",
    "\n",
    "As such, we expand the $\\lambda$ return:\n",
    "\n",
    "$\n",
    "\\begin{equation}\n",
    "\\begin{split}\n",
    "\\frac{1}{\\alpha} \\Delta V_t(s_t) =&  -V_{t-1}(s_t) + R_t^\\lambda\\\\\n",
    "=& -V_{t-1}(s_t) + (1 - \\lambda) \\lambda^0 [r_{t+1} + \\gamma V_t(s_{t+1})] + (1-\\lambda) \\lambda^1 [r_{t+1} + \\gamma r_{t+2} + \\gamma^2 V_{t+1}(s_{t+2})] + \\dots\\\\\n",
    "=& -V_{t-1}(s_t) + (\\gamma \\lambda)^0 [r_{t+1} + \\gamma V_t(s_{t+1}) - \\gamma \\lambda V_t(s_{t+1})] + (\\gamma \\lambda)^1 [r_{t+2} + \\gamma V_{t+1}(s_{t+2}) - \\gamma \\lambda V_{t+1}(s_{t+2})] + \\dots\\\\\n",
    "=& (\\gamma \\lambda)^0 [r_{t+1} + \\gamma V_t(s_{t+1}) - V_{t-1}(s_t)] + (\\gamma \\lambda) [r_{t+2} + \\gamma V_{t+1}(s_{t+2}) - V_t(s_t+1)] + \\dots\\\\\n",
    "=& \\sum_{k=t}^\\infty (\\gamma \\lambda)^{k-t} \\delta_k\n",
    "\\end{split}\n",
    "\\end{equation}\n",
    "$\n",
    "\n",
    "where $\\delta_k = r_k + \\gamma V_k(s_{k+1}) - V_{k-1}(s_k)$ as defined in the problem. Therefore, for online TD as defined above, the $\\lambda$ return is exactly equivalent.\n"
   ]
  },
  {
   "cell_type": "markdown",
   "metadata": {},
   "source": [
    "-------------\n",
    "\n",
    "##### Exercise 7.6\n",
    "\n",
    "In Example 7.5, suppose from state s the wrong action is taken twice before the right action is taken. If accumulating traces are used, then how big must the trace parameter $\\lambda $ be in order for the wrong action to end up with a larger eligibility trace than the right action?\n",
    "  \n",
    "The eligibility trace update is $e_t(s) \\leftarrow 1 + \\gamma \\lambda e_{t-1}(s)$ if $s = s_t$ and $e_t(s) \\leftarrow \\gamma \\lambda e_{t-1}(s)$ if $s \\neq s_t$. For two wrong actions, then one right action, $e_t(wrong) = (1 + \\gamma \\lambda) \\gamma \\lambda $, and $e_t(right) = 1$. If we want $e_t(wrong) \\gt e_t(right)$, we need $(1 + \\gamma \\lambda) \\gamma \\lambda \\gt 1$, or $\\gamma \\lambda \\gt \\frac{1}{2} (\\sqrt(5) - 1)$."
   ]
  },
  {
   "cell_type": "markdown",
   "metadata": {},
   "source": [
    "-----------\n",
    "\n",
    "##### Exercise 7.7\n"
   ]
  },
  {
   "cell_type": "code",
   "execution_count": 4,
   "metadata": {
    "collapsed": true
   },
   "outputs": [],
   "source": [
    "class LoopyEnvironment(object):\n",
    "    def __init__(self):\n",
    "        self._terminal_state = 5\n",
    "        self._state = 0\n",
    "        self._num_actions = 2\n",
    "    \n",
    "    @property\n",
    "    def state(self):\n",
    "        return self._state\n",
    "    \n",
    "    @state.setter\n",
    "    def state(self, state):\n",
    "        assert isinstance(state, int)\n",
    "        assert state >= 0 and state <= self._terminal_state\n",
    "        self._state = state\n",
    "    \n",
    "    @property\n",
    "    def terminal_state(self):\n",
    "        return self._terminal_state\n",
    "\n",
    "    def reinit_state(self):\n",
    "        self._state = 0\n",
    "    \n",
    "    def get_states_list(self):\n",
    "        return range(self._terminal_state + 1)\n",
    "    \n",
    "    def get_actions_list(self):\n",
    "        return range(self._num_actions)\n",
    "    \n",
    "    def is_terminal_state(self):\n",
    "        return self._state == self._terminal_state\n",
    "    \n",
    "    def take_action(self, action):\n",
    "        \"\"\"\n",
    "            action int: 0 or 1\n",
    "                if action is 0 = wrong, then don't change the state\n",
    "                if action is 1 = right, then go to the next state\n",
    "\n",
    "            returns int: reward\n",
    "        \"\"\"\n",
    "        assert action in [0, 1]\n",
    "        assert self.is_terminal_state() == False\n",
    "        if action == 1:\n",
    "            self._state += 1\n",
    "        if self._state == self._terminal_state:\n",
    "            return 1\n",
    "        return 0"
   ]
  },
  {
   "cell_type": "code",
   "execution_count": 150,
   "metadata": {
    "collapsed": false
   },
   "outputs": [],
   "source": [
    "import random\n",
    "from itertools import product\n",
    "\n",
    "class SARSA_lambda(object):\n",
    "    def __init__(self, environment):\n",
    "        states = environment.get_states_list()\n",
    "        actions = environment.get_actions_list()\n",
    "        \n",
    "        self.environment = environment\n",
    "        self.state_actions = list(product(states, actions))\n",
    "        self.Q = np.random.random([len(states), len(actions)])\n",
    "        self.e = np.zeros([len(states), len(actions)])\n",
    "    \n",
    "    def _get_epsilon_greedy_action(self, epsilon, p):\n",
    "        if random.random() <= epsilon:\n",
    "            action = random.randint(0, len(p) - 1)\n",
    "            return action\n",
    "        actions = np.where(p == np.amax(p))[0]\n",
    "        action = np.random.choice(actions)\n",
    "        return action\n",
    "    \n",
    "    def learn(self, num_episodes=100, Lambda=.9, gamma=.9, epsilon=.05, alpha=0.05,\n",
    "             replace_trace=False):\n",
    "        \"\"\"\n",
    "        Args:\n",
    "            num_episodes (int): Number of episodes to train\n",
    "            Lambda (float): TD(lambda) parameter \n",
    "                (if lambda = 1 we have MC or if lambda = 0 we have 1-step TD)\n",
    "            gamma (float): decay parameter for Bellman equation\n",
    "            epsilon (float): epsilon greedy decisions\n",
    "            alpha (float): determines how big should TD update be\n",
    "        \n",
    "        Returns:\n",
    "            list (int): the number of time steps it takes for each episode to terminate\n",
    "        \"\"\"\n",
    "        \n",
    "        time_steps = []\n",
    "        for n in xrange(num_episodes):\n",
    "            time_idx = 0\n",
    "            self.e = self.e * 0\n",
    "            self.environment.reinit_state()\n",
    "            s = self.environment.state\n",
    "            a = random.randint(0, self.Q.shape[1] - 1)\n",
    "            while not self.environment.is_terminal_state():\n",
    "                r = self.environment.take_action(a)\n",
    "                time_idx += 1\n",
    "\n",
    "                s_prime = self.environment.state\n",
    "                a_prime = self._get_epsilon_greedy_action(epsilon, self.Q[s_prime, :])\n",
    "                delta = r + gamma * self.Q[s_prime, a_prime] - self.Q[s, a]\n",
    "\n",
    "                if replace_trace:\n",
    "                    self.e[s, a] = 1\n",
    "                else:\n",
    "                    self.e[s, a] = self.e[s, a] + 1\n",
    "                    \n",
    "                for s, a in self.state_actions:\n",
    "                    self.Q[s, a] = self.Q[s, a] + alpha * delta * self.e[s, a]\n",
    "                    self.e[s, a] = gamma * Lambda * self.e[s, a]\n",
    "                    \n",
    "                s = s_prime\n",
    "                a = a_prime\n",
    "                \n",
    "            time_steps.append(time_idx)\n",
    "        return time_steps\n"
   ]
  },
  {
   "cell_type": "code",
   "execution_count": 151,
   "metadata": {
    "collapsed": false
   },
   "outputs": [],
   "source": [
    "env = LoopyEnvironment()\n",
    "s = SARSA_lambda(env)"
   ]
  },
  {
   "cell_type": "markdown",
   "metadata": {},
   "source": [
    "Run both the replace-trace and the SARSA($\\lambda$) regular trace methods for X episodes, and repeat N times. Get the average time length over all X episodes for each iteration for each alpha. In the environment in Figure 7.18, it takes at a minimum, 5 time steps to terminate. This is our baseline."
   ]
  },
  {
   "cell_type": "code",
   "execution_count": 154,
   "metadata": {
    "collapsed": false
   },
   "outputs": [],
   "source": [
    "\n",
    "def get_results(replace_trace, num_trials, num_episodes):\n",
    "    alphas = np.linspace(.2, 1, num=10)\n",
    "    results = np.array([])\n",
    "    for alpha in alphas:\n",
    "        res = []\n",
    "        for i in xrange(num_trials):\n",
    "            sarsa_lambda = SARSA_lambda(env)\n",
    "            t = sarsa_lambda.learn(num_episodes=num_episodes, alpha=alpha, \n",
    "                                   replace_trace=replace_trace, gamma=0.9,\n",
    "                                   epsilon=0.05, Lambda=0.9)\n",
    "            res.append(np.mean(t))\n",
    "\n",
    "        if results.shape[0] == 0:\n",
    "            results = np.array([alpha, np.mean(res)])\n",
    "        else:\n",
    "            results = np.vstack([results, [alpha, np.mean(res)]])\n",
    "    return results\n",
    "\n",
    "num_trials = 100\n",
    "num_episodes = 20\n",
    "replace_trace = get_results(True, num_trials, num_episodes)\n",
    "regular_trace = get_results(False, num_trials, num_episodes)\n",
    "        "
   ]
  },
  {
   "cell_type": "code",
   "execution_count": 155,
   "metadata": {
    "collapsed": false
   },
   "outputs": [
    {
     "data": {
      "text/plain": [
       "<matplotlib.text.Text at 0x110d3fd90>"
      ]
     },
     "execution_count": 155,
     "metadata": {},
     "output_type": "execute_result"
    },
    {
     "data": {
      "image/png": "[encoded data removed]",
      "text/plain": [
       "<matplotlib.figure.Figure at 0x10e605b90>"
      ]
     },
     "metadata": {},
     "output_type": "display_data"
    }
   ],
   "source": [
    "plt.plot(replace_trace[:, 0], replace_trace[:, 1], label='replace')\n",
    "plt.plot(regular_trace[:, 0], regular_trace[:, 1], label='regular')\n",
    "\n",
    "plt.legend()\n",
    "plt.title('Exercise 7.7: First %d episodes averaged %d times' %(num_episodes, num_trials))\n",
    "plt.xlabel('alpha')\n",
    "plt.ylabel('Time-steps')"
   ]
  },
  {
   "cell_type": "markdown",
   "metadata": {},
   "source": [
    "We see that on average, the replace trace method for $\\gamma = 0.9$, $\\lambda=0.9$, $\\epsilon=0.05$ takes less time to terminate. With lower $\\gamma$, the advantage of replace-trace seems to disappear."
   ]
  },
  {
   "cell_type": "markdown",
   "metadata": {},
   "source": [
    "-----------\n",
    "\n",
    "##### Exercise 7.8\n",
    "\n",
    "sarsa($\\lambda$) with replacing traces, has a backup which is equivalent to sarsa($\\lambda$) until the first repeated state-action pair. If we use the replace-trace formula in Figure 7.17, the replace-trace backup diagram terminates at the first repeated state-action pair. For the replace-trace formula in Figure 7.16, the backup diagram after the first repeated-state action pair is some hybrid of sarsa($\\lambda$) with weights changed only for the repeated state-actions. I'm not sure how to draw that."
   ]
  },
  {
   "cell_type": "markdown",
   "metadata": {},
   "source": [
    "-------\n",
    "\n",
    "##### Exercise 7.9\n",
    "\n",
    "Write pseudocode for an implementation of TD($\\lambda $) that updates only value estimates for states whose traces are greater than some small positive constant.\n",
    "  \n",
    "\n",
    "You can use a hash-map of traces to update, and if the update reduces the value of the trace below some constant, remove the trace from the hash-map. Traces get added to the hash-map as they get visited. If you want to write the pseudo code or real code, feel free to make a pull-request!"
   ]
  },
  {
   "cell_type": "markdown",
   "metadata": {},
   "source": [
    "-------\n",
    "\n",
    "##### Exercise 7.10\n",
    "\n",
    "Prove that the forward and backward views of off-line TD($\\lambda $) remain equivalent under their new definitions with variable $\\lambda $ given in this section. Follow the example of the proof in Section 7.4.\n",
    "\n",
    "\n",
    "As given in the book, the backward view is:\n",
    "\n",
    "$\n",
    "    e_t(s)=\\left\\{\n",
    "                \\begin{array}{ll}\n",
    "                  \\gamma \\lambda_t e_{t-1}(s), & \\mbox{ if } s \\neq s_t\\\\\n",
    "                  \\gamma \\lambda_t e_{t-1}(s) + 1, & \\mbox{ if } s = s_t\n",
    "                \\end{array}\n",
    "              \\right.\n",
    "$\n",
    "\n",
    "and the forward view is:\n",
    "\n",
    "$R_t^\\lambda = \\sum_{k=t+1}^{T-1} R_t^{(k-t)} (1 - \\lambda_k) \\prod_{i=t+1}^{k-1} \\lambda_i + R_t \\prod_{i=t+1}^{T-1} \\lambda_i$.\n",
    "\n",
    "The proof is almost identical to 7.4. For the backward view we need to express the eligibility trace nonrecursively:\n",
    "\n",
    "$e_t(s) = \\gamma \\lambda_t e_{t-1}(s) + I_{ss_t} = \\gamma \\lambda_t [\\gamma \\lambda_{t-1} e_{t-2}(s) + I_{ss_{t-1}}] + I_{ss_t} = \\sum_{k=0}^t I_{ss_k}\\gamma^{t-k} \\prod_{i=k+1}^t \\lambda_i$\n",
    "\n",
    "so that the sum of all updates to a given state is:\n",
    "\n",
    "$\\sum_{t=0}^{T-1}\\alpha I_{ss_t} \\sum_{k=t}^{T-1} \\gamma^{k-t} \\prod_{i=t+1}^k \\lambda_i \\delta_k$\n",
    "\n",
    "which was obtained by following the same algebra as in 7.9 to 7.12.\n",
    "\n",
    "\n",
    "The next step is to show that the sum of all updates of the forward view is equivalent to the previous equation above. We start with:\n",
    "\n",
    "\n",
    "$\n",
    "\\begin{equation}\n",
    "\\begin{split}\n",
    "\\frac{1}{\\alpha} \\Delta V_t(s_t) =&  -V_{t}(s_t) + R_t^\\lambda\\\\\n",
    "=& -V_t(s_t) + (1 - \\lambda_{t+1}) [r_{t+1} + \\gamma V_t(s_{t+1})] + (1 - \\lambda_{t+2})\\lambda_{t+1} [r_{t+1} + \\gamma r_{t+2} + \\gamma^2 V_t(s_{t+2})] + \\dots\\\\\n",
    "=& -V_{t}(s_t) + [r_{t+1} + \\gamma V_t(s_{t+1}) - \\lambda_{t+1} \\gamma V_t(s_{t+1})] + \\gamma \\lambda_{t+1} [r_{t+2} + \\gamma V_t(s_{t+2}) - \\gamma \\lambda_{t+2} V_t(s_{t+2})] + \\dots\\\\\n",
    "=& [r_{t+1} + \\gamma V_t(s_{t+1}) - V_t(s_t)] + (\\gamma \\lambda_{t+1})[r_{t+2} + \\gamma V_t(s_{t+2}) - V_t(s_{t+1})] +  (\\gamma^2 \\lambda_{t+1}\\lambda_{t+2}) \\delta_{t+3} + \\dots\\\\\n",
    "\\approx& \\sum_{k=t}^{T-1} \\gamma^{k-t} \\delta_k \\prod_{i=t+1}^{k} \\lambda_i\n",
    "\\end{split}\n",
    "\\end{equation}\n",
    "$\n",
    "\n",
    "which is equivalent to the backward case, and becomes an equality for offline updates.\n"
   ]
  },
  {
   "cell_type": "markdown",
   "metadata": {},
   "source": [
    "------\n",
    "\n",
    "** \"Eligibility traces are the first line of defense against both long-delayed rewards and non-Markov tasks.\"**\n",
    "\n",
    "\"In the future it may be possible to vary the trade-off between TD and Monte Carlo methods more finely by using variable $\\lambda $, but at present it is not clear how this can be done reliably and usefully.\""
   ]
  }
 ],
 "metadata": {
  "kernelspec": {
   "display_name": "Python 2",
   "language": "python",
   "name": "python2"
  },
  "language_info": {
   "codemirror_mode": {
    "name": "ipython",
    "version": 2
   },
   "file_extension": ".py",
   "mimetype": "text/x-python",
   "name": "python",
   "nbconvert_exporter": "python",
   "pygments_lexer": "ipython2",
   "version": "2.7.11"
  }
 },
 "nbformat": 4,
 "nbformat_minor": 0
}
